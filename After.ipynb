{
 "cells": [
  {
   "cell_type": "code",
   "execution_count": 1,
   "metadata": {},
   "outputs": [],
   "source": [
    "import pandas as pd\n",
    "import numpy as np\n",
    "import matplotlib.pyplot as plt\n",
    "import math\n",
    "from scipy.stats import skew, kurtosis\n",
    "from statsmodels.tsa import stattools\n",
    "from sklearn.model_selection import train_test_split"
   ]
  },
  {
   "cell_type": "code",
   "execution_count": 2,
   "metadata": {},
   "outputs": [],
   "source": [
    "########################################################################################\n",
    "#                                                                                      #\n",
    "# Extract Data Mentah Menjadi Data Klasifikasi                                         #\n",
    "# https://github.com/nlathia/pydata_2016/blob/master/Learn/Accelerometer-Explore.ipynb #\n",
    "#                                                                                      #\n",
    "########################################################################################"
   ]
  },
  {
   "cell_type": "code",
   "execution_count": 3,
   "metadata": {},
   "outputs": [],
   "source": [
    "# https://www.sciencedirect.com/science/article/pii/S0893608014000203\n",
    "# Page 2 Sub-title 3.1 Acceleration synthesization\n",
    "\n",
    "def magnitude(activity):    \n",
    "    x2 = activity['xAxis'] * activity['xAxis']\n",
    "    y2 = activity['yAxis'] * activity['yAxis']\n",
    "    z2 = activity['zAxis'] * activity['zAxis']\n",
    "    m2 = x2 + y2 + z2\n",
    "    m = m2.apply(lambda x: math.sqrt(x))\n",
    "    return m"
   ]
  },
  {
   "cell_type": "code",
   "execution_count": 4,
   "metadata": {},
   "outputs": [],
   "source": [
    "def jitter(axis, start, end):\n",
    "    j = float(0)\n",
    "    for i in range(start, min(end, axis.count())):\n",
    "        if start != 0:\n",
    "            j += abs(axis[i] - axis[i-1])\n",
    "    return j / (end-start)"
   ]
  },
  {
   "cell_type": "code",
   "execution_count": 5,
   "metadata": {},
   "outputs": [],
   "source": [
    "def mean_crossing_rate(axis, start, end):\n",
    "    cr = 0\n",
    "    m = axis.mean()\n",
    "    for i in range(start, min(end, axis.count())):\n",
    "        if start != 0:\n",
    "            p = axis[i-1] > m\n",
    "            c = axis[i] > m\n",
    "            if p != c:\n",
    "                cr += 1\n",
    "    return float(cr) / (end-start-1)"
   ]
  },
  {
   "cell_type": "code",
   "execution_count": 6,
   "metadata": {},
   "outputs": [],
   "source": [
    "def hidden_window_summary(axis, start, end):\n",
    "    acf = stattools.acf(axis[start:end])      # https://en.wikipedia.org/wiki/Autocorrelation\n",
    "    acv = stattools.acovf(axis[start:end])    # https://en.wikipedia.org/wiki/Autocovariance\n",
    "    sqd_error = (axis[start:end] - axis[start:end].mean()) ** 2\n",
    "    return [\n",
    "        jitter(axis, start, end),             # Jitter (https://en.wikipedia.org/wiki/Jitter)\n",
    "        mean_crossing_rate(axis, start, end), # Mean Crossing Rate\n",
    "        axis[start:end].mean(),               # Mean\n",
    "        axis[start:end].std(),                # Standard Deviation (https://en.wikipedia.org/wiki/Standard_deviation)\n",
    "        axis[start:end].var(),                # Variance (https://en.wikipedia.org/wiki/Variance)\n",
    "        axis[start:end].min(),                # Minimum\n",
    "        axis[start:end].max(),                # Maximum\n",
    "        acf.mean(),                           # mean auto correlation\n",
    "        acf.std(),                            # standard deviation auto correlation\n",
    "        acv.mean(),                           # mean auto covariance\n",
    "        acv.std(),                            # standard deviation auto covariance\n",
    "        skew(axis[start:end]),                # skewness (https://en.wikipedia.org/wiki/Skewness)\n",
    "        kurtosis(axis[start:end]),            # kurtosis (https://en.wikipedia.org/wiki/Kurtosis)\n",
    "        math.sqrt(sqd_error.mean())           # Square Root Deviation\n",
    "    ]"
   ]
  },
  {
   "cell_type": "code",
   "execution_count": 7,
   "metadata": {},
   "outputs": [],
   "source": [
    "def hidden_windows(df, size=100):\n",
    "    start = 0\n",
    "    while start < df.count():\n",
    "        yield start, start + size\n",
    "        start += (size / 2)"
   ]
  },
  {
   "cell_type": "code",
   "execution_count": 8,
   "metadata": {},
   "outputs": [],
   "source": [
    "def features(activity):\n",
    "    for (start, end) in hidden_windows(activity['timestamp']):\n",
    "        features = []\n",
    "        for axis in ['xAxis', 'yAxis', 'zAxis', 'magnitude']:\n",
    "            features += hidden_window_summary(activity[axis], int(start), int(end))\n",
    "        yield features"
   ]
  },
  {
   "cell_type": "code",
   "execution_count": 9,
   "metadata": {},
   "outputs": [],
   "source": [
    "# 3 fungsi dibawah hanya untuk menampilkan grafik.\n",
    "# Tidak berpengaruh terhadap data.\n",
    "\n",
    "def plot_axis(ax, x, y, title):\n",
    "    ax.plot(x, y)\n",
    "    ax.set_title(title)\n",
    "    ax.xaxis.set_visible(False)\n",
    "    ax.set_ylim([min(y) - np.std(y), max(y) + np.std(y)])\n",
    "    ax.set_xlim([min(x), max(x)])\n",
    "    ax.grid(True)\n",
    "\n",
    "def plot_activity(activity):\n",
    "    fig, (ax0, ax1, ax2) = plt.subplots(nrows=3, figsize=(15, 10), sharex=True)\n",
    "    plot_axis(ax0, activity['timestamp'], activity['xAxis'], 'x Axis')\n",
    "    plot_axis(ax1, activity['timestamp'], activity['yAxis'], 'y Axis')\n",
    "    plot_axis(ax2, activity['timestamp'], activity['zAxis'], 'z Axis')\n",
    "    plt.subplots_adjust(hspace=0.2)\n",
    "    plt.show()\n",
    "\n",
    "def plot_magnitudes(activities, titles, hidden_inputdow=False):\n",
    "    fig, axs = plt.subplots(nrows=len(activities), figsize=(15, 15))\n",
    "    for i in range(0, len(activities)):\n",
    "        plot_axis(axs[i], activities[i]['timestamp'], activities[i]['magnitude'], titles[i])\n",
    "        if hidden_inputdow == True:\n",
    "            for (start, end) in hidden_inputdows(activities[i]['timestamp']):\n",
    "                axs[i].axvline(activities[i]['timestamp'][start], color='r')\n",
    "    plt.subplots_adjust(hspace=0.2)\n",
    "    plt.show()"
   ]
  },
  {
   "cell_type": "code",
   "execution_count": 10,
   "metadata": {},
   "outputs": [],
   "source": [
    "# Contoh isi dari file (Train_1462518004872.csv)\n",
    "#\n",
    "# timestamp         xAxis       yAxis       zAxis\n",
    "# 1462518004907     0.9163807   5.911284    7.6027875\n",
    "# 1462518004907     0.9163807   5.911284    7.6027875\n",
    "# 1462518004908     0.9163807   5.911284    7.6027875\n",
    "# 1462518004908     0.9163807   5.911284    7.6027875\n",
    "# 1462518004926     0.8822633   5.9561753   7.6943655\n",
    "# ...\n",
    "# 1462518115208     2.926313    4.7734394   7.647679\n",
    "# 1462518115228     3.0298622   4.8895583   7.8547773\n",
    "# 1462518115250     3.0310593   4.819528    7.8446016\n",
    "# 1462518115275     2.9005754   4.6124296   7.752425\n",
    "# 1462518115293     2.7491422   4.648941    7.7159133\n",
    "\n",
    "COLUMNS = ['timestamp', 'xAxis', 'yAxis', 'zAxis']\n",
    "data_mentah = pd.read_csv('Train_1462518004872.csv', header=None, names=COLUMNS)"
   ]
  },
  {
   "cell_type": "code",
   "execution_count": 11,
   "metadata": {},
   "outputs": [],
   "source": [
    "# Pastikan sebelum meng-ekstrak, terlebih dahulu sudah ada data\n",
    "# timestamp, xAxis, yAxis, zAxis, magnitude\n",
    "\n",
    "data_mentah['magnitude'] = magnitude(data_mentah)     # tambah magnitude\n",
    "data_test = list(features(data_mentah))               # hasil ekstrak"
   ]
  },
  {
   "cell_type": "code",
   "execution_count": 12,
   "metadata": {},
   "outputs": [],
   "source": [
    "#############################################################################\n",
    "#                                                                           #\n",
    "# Extreme Learning Machine                                                  #\n",
    "# https://www.kaggle.com/robertbm/extreme-learning-machine-example/notebook #\n",
    "#                                                                           #\n",
    "#############################################################################"
   ]
  },
  {
   "cell_type": "code",
   "execution_count": 13,
   "metadata": {},
   "outputs": [],
   "source": [
    "# Contoh isi dari file (Dataset_Erick.csv)\n",
    "#\n",
    "# labels, ...x_train\n",
    "#      0, 0.0, 0.0, 0.24989480049999999, ..., 0.01244791475234841\n",
    "#      0, 0.0110193128, 0.4444444444444444, 0.24805126300000002, ..., 0.011340507786998051\n",
    "#      0, 0.0092116902999999951, 0.37373737373737376, 0.24554333720000002, ..., 0.008624816223606722\n",
    "#      0, 0.0083677324999999973, 0.35353535353535354, 0.24606407550000001, ..., 0.008724399979249698\n",
    "#      0, 0.010606313999999999, 0.37373737373737376, 0.24699781529999998, ..., 0.009699753201686066\n",
    "#     ...\n",
    "#      4, 0.062309105999999975, 0.0, 2.8826008860000001, ..., 0.1189263958036313\n",
    "#      4, 0.076093709000000023, 0.0, 2.903155097, ..., 0.1691570059978957\n",
    "#      4, 0.067797800000000019, 0.0, 2.8340883649999999, ..., 0.18924480349138034\n",
    "#      4, 0.042239707000000008, 0.0, 2.7803984030000004, ..., 0.16544506485620625\n",
    "#      4, 0.017316066000000001, 0.0, 2.7760050519999999, ..., 0.16194180366751312\n",
    "\n",
    "data_set = np.loadtxt('Dataset_Erick.csv', delimiter=\",\")\n",
    "x_train = data_set[:, 1:] # 2D Array = mengambil data dari Dataset_Erick dimulai dari index 1 sampai ke belakang\n",
    "labels = data_set[:, 0]   # 1D Array = mengambil data dari Dataset_Erick hanya mengambil index 0"
   ]
  },
  {
   "cell_type": "code",
   "execution_count": 14,
   "metadata": {},
   "outputs": [],
   "source": [
    "# Kita ada 5 aktivitas / classes (0 = STANDING, 1 = WALKING, 2 = RUNNING, 3 = STAIRS, 4 = ON_TRAIN)\n",
    "# Kita membuat array 2D dengan size n x m (n = banyak dataset, m = banyak aktivitas) dan diisi dengan angka 0\n",
    "\n",
    "CLASSES = 5                                    \n",
    "y_train = np.zeros([len(labels), CLASSES])     "
   ]
  },
  {
   "cell_type": "code",
   "execution_count": 15,
   "metadata": {},
   "outputs": [],
   "source": [
    "# Setiap dataset, index aktivitas diberi angka 1 \n",
    "\n",
    "for i in range(len(labels)):                   \n",
    "    y_train[i][int(labels[i])] = 1"
   ]
  },
  {
   "cell_type": "code",
   "execution_count": 16,
   "metadata": {},
   "outputs": [],
   "source": [
    "INPUT_LENGHT = x_train.shape[1] # ambil panjang array \n",
    "HIDDEN_UNITS = 1000\n",
    "\n",
    "# random data dengan array 2D dengan size INPUT_LENGHT x HIDDEN_UNITS\n",
    "hidden_input = np.random.normal(size=[INPUT_LENGHT, HIDDEN_UNITS]) "
   ]
  },
  {
   "cell_type": "code",
   "execution_count": 17,
   "metadata": {},
   "outputs": [],
   "source": [
    "def input_to_hidden(x):\n",
    "    a = np.dot(x, hidden_input)     # perkalian matrix\n",
    "    a = np.maximum(a, 0, a)         # ReLU\n",
    "    return a\n",
    "\n",
    "# Referensi ReLU:\n",
    "# 1. https://en.wikipedia.org/wiki/Rectifier_(neural_networks)\n",
    "\n",
    "# 2. https://www.kaggle.com/dansbecker/rectified-linear-units-relu-in-deep-learning"
   ]
  },
  {
   "cell_type": "code",
   "execution_count": 18,
   "metadata": {},
   "outputs": [],
   "source": [
    "# Rumus:\n",
    "# https://www.sciencedirect.com/science/article/pii/S0893608014000203\n",
    "# Page 3 Sub-title 3.3 RKELM-based recognition model construction\n",
    "#\n",
    "# NB: Ini hanya ELM, sehingga kita akan membuang (1 / lambda) pada rumus\n",
    "\n",
    "K = input_to_hidden(x_train)\n",
    "Kt = np.transpose(K)\n",
    "\n",
    "hasil_1 = np.linalg.pinv(np.dot(Kt, K)) # (Kt x K) ^ -1\n",
    "hasil_2 = np.dot(Kt, y_train)           # (Kt x T)\n",
    "B = np.dot(hasil_1, hasil_2)"
   ]
  },
  {
   "cell_type": "code",
   "execution_count": 19,
   "metadata": {},
   "outputs": [],
   "source": [
    "# Memulai mengklasifikasi\n",
    "\n",
    "def predict(x):\n",
    "    x = input_to_hidden(x)\n",
    "    y = np.dot(x, B)\n",
    "    return y\n",
    "\n",
    "p = predict(data_test) # data_test diambil di Line In [11]\n",
    "\n",
    "correct = 0\n",
    "total = p.shape[0]\n",
    "clasification = np.zeros([total])\n",
    "\n",
    "for i in range(total):\n",
    "    clasification[i] = np.argmax(p[i])"
   ]
  },
  {
   "cell_type": "code",
   "execution_count": 20,
   "metadata": {},
   "outputs": [
    {
     "data": {
      "text/plain": [
       "array([4., 4., 4., 4., 4., 4., 4., 4., 4., 4., 4., 4., 4., 4., 4., 4., 4.,\n",
       "       4., 4., 4., 4., 4., 4., 4., 4., 4., 4., 4., 4., 4., 4., 4., 4., 4.,\n",
       "       4., 4., 4., 4., 4., 4., 4., 4., 4., 4., 4., 4., 4., 4., 4., 4., 4.,\n",
       "       4., 4., 4., 4., 4., 4., 4., 4., 4., 4., 4., 4., 4., 4., 4., 4., 4.,\n",
       "       4., 4., 4., 4., 4., 4., 4., 4., 4., 4., 4., 4., 4., 4., 4., 4., 4.,\n",
       "       4., 4., 4., 4., 4., 4., 4., 0., 4., 4., 4., 4., 4., 4., 4., 4., 4.,\n",
       "       4., 4., 4., 4., 4., 4., 4., 4., 4., 4., 4., 4., 4., 4., 4., 4., 4.,\n",
       "       4., 4., 4., 4., 4., 4., 4., 4., 4., 4., 4., 4., 4., 4., 4., 4., 4.,\n",
       "       4., 4.])"
      ]
     },
     "execution_count": 20,
     "metadata": {},
     "output_type": "execute_result"
    }
   ],
   "source": [
    "# Cetak Hasil Klasifikasi\n",
    "clasification"
   ]
  },
  {
   "cell_type": "code",
   "execution_count": 21,
   "metadata": {},
   "outputs": [],
   "source": [
    "# Beberapa link tentang fungsi2 yang digunakan:\n",
    "# 1. np.dot (https://docs.scipy.org/doc/numpy-1.15.0/reference/generated/numpy.dot.html)\n",
    "# 2. np.std (https://docs.scipy.org/doc/numpy-1.15.0/reference/generated/numpy.std.html)\n",
    "# 3. np.zeros (https://docs.scipy.org/doc/numpy-1.15.0/reference/generated/numpy.zeros.html)\n",
    "# 4. np.argmax (https://docs.scipy.org/doc/numpy-1.15.0/reference/generated/numpy.argmax.html)\n",
    "# 5. np.loadtxt (https://docs.scipy.org/doc/numpy-1.15.0/reference/generated/numpy.loadtxt.html)\n",
    "# 6. np.maximum (https://docs.scipy.org/doc/numpy-1.15.0/reference/generated/numpy.maximum.html)\n",
    "# 7. np.transpose (https://docs.scipy.org/doc/numpy-1.15.0/reference/generated/numpy.transpose.html)\n",
    "# 8. np.linalg.pinv (https://docs.scipy.org/doc/numpy-1.15.0/reference/generated/numpy.linalg.pinv.html)\n",
    "# 9. np.random.normal (https://docs.scipy.org/doc/numpy-1.15.0/reference/generated/numpy.random.normal.html)"
   ]
  }
 ],
 "metadata": {
  "kernelspec": {
   "display_name": "Python 3",
   "language": "python",
   "name": "python3"
  },
  "language_info": {
   "codemirror_mode": {
    "name": "ipython",
    "version": 3
   },
   "file_extension": ".py",
   "mimetype": "text/x-python",
   "name": "python",
   "nbconvert_exporter": "python",
   "pygments_lexer": "ipython3",
   "version": "3.6.5"
  }
 },
 "nbformat": 4,
 "nbformat_minor": 2
}
