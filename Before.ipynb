{
 "cells": [
  {
   "cell_type": "code",
   "execution_count": 1,
   "metadata": {},
   "outputs": [],
   "source": [
    "import pandas as pd\n",
    "import numpy as np\n",
    "import matplotlib.pyplot as plt\n",
    "import math\n",
    "from scipy.stats import skew, kurtosis\n",
    "from statsmodels.tsa import stattools\n",
    "from sklearn.model_selection import train_test_split\n",
    "\n",
    "np.set_printoptions(threshold=np.nan)"
   ]
  },
  {
   "cell_type": "code",
   "execution_count": 2,
   "metadata": {},
   "outputs": [],
   "source": [
    "dataset = np.loadtxt('Dataset_Erick.csv', delimiter=\",\")\n",
    "x_train = dataset[:, 1:] # 2D Array\n",
    "labels = dataset[:, 0]   # 1D Array"
   ]
  },
  {
   "cell_type": "code",
   "execution_count": 3,
   "metadata": {},
   "outputs": [],
   "source": [
    "CLASSES = 5\n",
    "y_train = np.zeros([len(labels), CLASSES])\n",
    "\n",
    "for i in range(len(labels)):\n",
    "    y_train[i][int(labels[i])] = 1\n",
    "\n",
    "x_train, x_test, y_train, y_test = train_test_split(x_train, y_train, test_size=0.1)"
   ]
  },
  {
   "cell_type": "code",
   "execution_count": 4,
   "metadata": {},
   "outputs": [],
   "source": [
    "INPUT_LENGHT = x_train.shape[1] # 56 \n",
    "HIDDEN_UNITS = 1000\n",
    "\n",
    "Win = np.random.normal(size=[INPUT_LENGHT, HIDDEN_UNITS])"
   ]
  },
  {
   "cell_type": "code",
   "execution_count": 5,
   "metadata": {},
   "outputs": [],
   "source": [
    "def input_to_hidden(x):\n",
    "    a = np.dot(x, Win)\n",
    "    a = np.maximum(a, 0, a) # ReLU\n",
    "    return a"
   ]
  },
  {
   "cell_type": "code",
   "execution_count": 6,
   "metadata": {},
   "outputs": [],
   "source": [
    "X = input_to_hidden(x_train)\n",
    "Xt = np.transpose(X)\n",
    "\n",
    "Wout = np.dot(np.linalg.pinv(np.dot(Xt, X)), np.dot(Xt, y_train))\n",
    "# np.linalg.inv(np.dot(Xt, X))\n",
    "# np.dot(Xt, X)\n",
    "# Wout"
   ]
  },
  {
   "cell_type": "code",
   "execution_count": 7,
   "metadata": {},
   "outputs": [],
   "source": [
    "def predict(x):\n",
    "    x = input_to_hidden(x)\n",
    "    y = np.dot(x, Wout)\n",
    "    return y"
   ]
  },
  {
   "cell_type": "code",
   "execution_count": 8,
   "metadata": {},
   "outputs": [
    {
     "name": "stdout",
     "output_type": "stream",
     "text": [
      "Accuracy: 0.967742\n"
     ]
    }
   ],
   "source": [
    "y = predict(x_test)\n",
    "correct = 0\n",
    "total = y.shape[0]\n",
    "\n",
    "temp = np.zeros([total])\n",
    "\n",
    "for i in range(total):\n",
    "    predicted = np.argmax(y[i])\n",
    "    test = np.argmax(y_test[i])\n",
    "    temp[i] = np.argmax(y[i])\n",
    "    correct = correct + (1 if predicted == test else 0)\n",
    "print('Accuracy: {:f}'.format(correct/total))"
   ]
  },
  {
   "cell_type": "code",
   "execution_count": 9,
   "metadata": {},
   "outputs": [
    {
     "data": {
      "text/plain": [
       "array([0., 1., 2., 0., 3., 0., 2., 3., 1., 3., 4., 0., 2., 3., 4., 1., 0.,\n",
       "       0., 3., 2., 2., 1., 0., 1., 1., 0., 3., 1., 0., 1., 4.])"
      ]
     },
     "execution_count": 9,
     "metadata": {},
     "output_type": "execute_result"
    }
   ],
   "source": [
    "temp"
   ]
  },
  {
   "cell_type": "code",
   "execution_count": 10,
   "metadata": {},
   "outputs": [],
   "source": [
    "COLUMNS = ['timestamp', 'xAxis', 'yAxis', 'zAxis']\n",
    "WALKING_241018_1 = pd.read_csv('Train_1462518004872.csv', header=None, names=COLUMNS)\n",
    "\n",
    "def magnitude(activity):\n",
    "    x2 = activity['xAxis'] * activity['xAxis']\n",
    "    y2 = activity['yAxis'] * activity['yAxis']\n",
    "    z2 = activity['zAxis'] * activity['zAxis']\n",
    "    m2 = x2 + y2 + z2\n",
    "    m = m2.apply(lambda x: math.sqrt(x))\n",
    "    return m\n",
    "\n",
    "WALKING_241018_1['magnitude'] = magnitude(WALKING_241018_1)\n",
    "\n",
    "def plot_axis(ax, x, y, title):\n",
    "    ax.plot(x, y)\n",
    "    ax.set_title(title)\n",
    "    ax.xaxis.set_visible(False)\n",
    "    ax.set_ylim([min(y) - np.std(y), max(y) + np.std(y)])\n",
    "    ax.set_xlim([min(x), max(x)])\n",
    "    ax.grid(True)\n",
    "    \n",
    "def plot_activity(activity):\n",
    "    fig, (ax0, ax1, ax2) = plt.subplots(nrows=3, figsize=(15, 10), sharex=True)\n",
    "    plot_axis(ax0, activity['timestamp'], activity['xAxis'], 'x Axis')\n",
    "    plot_axis(ax1, activity['timestamp'], activity['yAxis'], 'y Axis')\n",
    "    plot_axis(ax2, activity['timestamp'], activity['zAxis'], 'z Axis')\n",
    "    plt.subplots_adjust(hspace=0.2)\n",
    "    plt.show()\n",
    "    \n",
    "def windows(df, size=100):\n",
    "    start = 0\n",
    "    while start < df.count():\n",
    "        yield start, start + size\n",
    "        start += (size / 2)\n",
    "        \n",
    "def plot_magnitudes(activities, titles, window=False):\n",
    "    fig, axs = plt.subplots(nrows=len(activities), figsize=(15, 15))\n",
    "    for i in range(0, len(activities)):\n",
    "        plot_axis(axs[i], activities[i]['timestamp'], activities[i]['magnitude'], titles[i])\n",
    "        if window == True:\n",
    "            for (start, end) in windows(activities[i]['timestamp']):\n",
    "                axs[i].axvline(activities[i]['timestamp'][start], color='r')\n",
    "    plt.subplots_adjust(hspace=0.2)\n",
    "    plt.show()\n",
    "    \n",
    "# https://en.wikipedia.org/wiki/Jitter\n",
    "def jitter(axis, start, end):\n",
    "    j = float(0)\n",
    "    for i in range(start, min(end, axis.count())):\n",
    "        if start != 0:\n",
    "            j += abs(axis[i] - axis[i-1])\n",
    "    return j / (end-start)\n",
    "\n",
    "def mean_crossing_rate(axis, start, end):\n",
    "    cr = 0\n",
    "    m = axis.mean()\n",
    "    for i in range(start, min(end, axis.count())):\n",
    "        if start != 0:\n",
    "            p = axis[i-1] > m\n",
    "            c = axis[i] > m\n",
    "            if p != c:\n",
    "                cr += 1\n",
    "    return float(cr) / (end-start-1)\n",
    "\n",
    "def window_summary(axis, start, end):\n",
    "    acf = stattools.acf(axis[start:end])   # https://en.wikipedia.org/wiki/Autocorrelation\n",
    "    acv = stattools.acovf(axis[start:end]) # https://en.wikipedia.org/wiki/Autocovariance\n",
    "    sqd_error = (axis[start:end] - axis[start:end].mean()) ** 2\n",
    "    return [\n",
    "        jitter(axis, start, end),             # Jitter\n",
    "        mean_crossing_rate(axis, start, end), # Mean Crossing Rate\n",
    "        axis[start:end].mean(),               # Mean\n",
    "        axis[start:end].std(),                # Standard Deviation                  # https://en.wikipedia.org/wiki/Standard_deviation\n",
    "        axis[start:end].var(),                # Variance                            # https://en.wikipedia.org/wiki/Variance\n",
    "        axis[start:end].min(),                # Minimum\n",
    "        axis[start:end].max(),                # Maximum\n",
    "        acf.mean(),                           # mean auto correlation\n",
    "        acf.std(),                            # standard deviation auto correlation\n",
    "        acv.mean(),                           # mean auto covariance\n",
    "        acv.std(),                            # standard deviation auto covariance\n",
    "        skew(axis[start:end]),                # skewness                            # https://en.wikipedia.org/wiki/Skewness\n",
    "        kurtosis(axis[start:end]),            # kurtosis                            # https://en.wikipedia.org/wiki/Kurtosis\n",
    "        math.sqrt(sqd_error.mean())           # Square Root Deviation\n",
    "    ]\n",
    "\n",
    "def features(activity):\n",
    "    for (start, end) in windows(activity['timestamp']):\n",
    "        features = []\n",
    "        for axis in ['xAxis', 'yAxis', 'zAxis', 'magnitude']:\n",
    "            features += window_summary(activity[axis], int(start), int(end))\n",
    "        yield features\n",
    "        \n",
    "erick_test = list(features(WALKING_241018_1))\n",
    "\n",
    "c = predict(erick_test)\n",
    "total = c.shape[0]\n",
    "temp1 = np.zeros([total])\n",
    "temp2 = np.zeros([total])\n",
    "# len(y_test)\n",
    "for i in range(total):\n",
    "    predicted = np.argmax(c[i])\n",
    "#     test = np.argmax(y_test[i])\n",
    "    temp1[i] = np.argmax(c[i])\n",
    "#     temp2[i] = np.argmax(y_test[i])\n",
    "#     correct = correct + (1 if predicted == test else 0)\n",
    "    \n",
    "# print('Accuracy: {:f}'.format(correct/total))"
   ]
  },
  {
   "cell_type": "code",
   "execution_count": 11,
   "metadata": {},
   "outputs": [
    {
     "data": {
      "text/plain": [
       "array([4., 4., 4., 4., 4., 4., 4., 4., 4., 4., 4., 4., 4., 4., 4., 4., 4.,\n",
       "       4., 4., 4., 4., 4., 4., 4., 4., 4., 4., 4., 4., 4., 4., 4., 4., 4.,\n",
       "       4., 4., 4., 4., 4., 4., 4., 4., 4., 4., 4., 4., 4., 4., 0., 4., 4.,\n",
       "       4., 4., 4., 4., 4., 4., 4., 4., 4., 4., 4., 4., 4., 4., 4., 4., 4.,\n",
       "       4., 4., 4., 4., 4., 4., 4., 4., 4., 4., 4., 4., 4., 4., 4., 4., 4.,\n",
       "       4., 4., 4., 4., 4., 4., 4., 0., 0., 4., 4., 4., 4., 4., 4., 4., 4.,\n",
       "       4., 4., 4., 4., 4., 4., 4., 4., 4., 4., 4., 4., 4., 4., 4., 4., 4.,\n",
       "       4., 4., 4., 4., 4., 4., 4., 4., 4., 4., 4., 4., 4., 4., 4., 4., 4.,\n",
       "       4., 4.])"
      ]
     },
     "execution_count": 11,
     "metadata": {},
     "output_type": "execute_result"
    }
   ],
   "source": [
    "temp1"
   ]
  }
 ],
 "metadata": {
  "kernelspec": {
   "display_name": "Python 3",
   "language": "python",
   "name": "python3"
  },
  "language_info": {
   "codemirror_mode": {
    "name": "ipython",
    "version": 3
   },
   "file_extension": ".py",
   "mimetype": "text/x-python",
   "name": "python",
   "nbconvert_exporter": "python",
   "pygments_lexer": "ipython3",
   "version": "3.6.5"
  }
 },
 "nbformat": 4,
 "nbformat_minor": 2
}
